{
 "cells": [
  {
   "cell_type": "code",
   "execution_count": 1,
   "metadata": {},
   "outputs": [],
   "source": [
    "%%init_spark\n",
    "launcher.conf.set(\"spark.sql.sources.partitionOverwriteMode\", \"dynamic\")\n",
    "launcher.packages = [\"org.twitter4j:twitter4j-core:4.0.7\"]"
   ]
  },
  {
   "cell_type": "markdown",
   "metadata": {},
   "source": [
    "# Carrega os tweets e converte em json"
   ]
  },
  {
   "cell_type": "code",
   "execution_count": null,
   "metadata": {},
   "outputs": [],
   "source": [
    "import twitter4j.{Twitter, TwitterFactory}\n",
    "import twitter4j.Query\n",
    "import scala.collection._\n",
    "import scala.collection.JavaConverters\n",
    "\n",
    "val twitter = TwitterFactory.getSingleton()\n",
    "val query = new Query(\"#convid19\")\n",
    "val tweets = twitter.search(query).getTweets()\n",
    "val result = JavaConverters.collectionAsScalaIterableConverter(tweets).asScala.toSeq\n",
    "val jsonTweets = result.map(x => TwitterObjectFactory.getRawJSON(x))"
   ]
  },
  {
   "cell_type": "markdown",
   "metadata": {},
   "source": [
    "# Salva os tweets particionados por data como parquet"
   ]
  },
  {
   "cell_type": "code",
   "execution_count": null,
   "metadata": {},
   "outputs": [],
   "source": [
    "import org.apache.spark.sql.{DataFrame, Row, SQLContext, DataFrameReader}\n",
    "import org.apache.spark.sql.functions._\n",
    "import spark.implicits._\n",
    "import twitter4j.TwitterObjectFactory\n",
    "\n",
    "val df = spark.read.json(jsonTweets.toDS)\n",
    "    .withColumn(\"dt\", lit(\"2020-10-25\"))\n",
    "\n",
    "df.write\n",
    "    .partitionBy(\"dt\")\n",
    "    .mode(\"overwrite\")\n",
    "    .parquet(\"/data/tweets\")"
   ]
  },
  {
   "cell_type": "code",
   "execution_count": null,
   "metadata": {},
   "outputs": [],
   "source": []
  }
 ],
 "metadata": {
  "kernelspec": {
   "display_name": "spylon-kernel",
   "language": "scala",
   "name": "spylon-kernel"
  },
  "language_info": {
   "codemirror_mode": "text/x-scala",
   "file_extension": ".scala",
   "help_links": [
    {
     "text": "MetaKernel Magics",
     "url": "https://metakernel.readthedocs.io/en/latest/source/README.html"
    }
   ],
   "mimetype": "text/x-scala",
   "name": "scala",
   "pygments_lexer": "scala",
   "version": "0.4.1"
  }
 },
 "nbformat": 4,
 "nbformat_minor": 4
}
